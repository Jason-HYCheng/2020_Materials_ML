{
 "cells": [
  {
   "cell_type": "code",
   "execution_count": 1,
   "metadata": {},
   "outputs": [],
   "source": [
    "import numpy as np\n",
    "import math\n",
    "import pandas as pd"
   ]
  },
  {
   "cell_type": "code",
   "execution_count": 2,
   "metadata": {},
   "outputs": [
    {
     "name": "stdout",
     "output_type": "stream",
     "text": [
      "Model 1\n",
      "Probability matrix :\n",
      "[[0.4 0.3 0.3]\n",
      " [0.3 0.4 0.3]\n",
      " [0.5 0.2 0.3]\n",
      " [0.6 0.2 0.2]]\n",
      "Answer matrix :\n",
      "[[1 0 0]\n",
      " [0 1 0]\n",
      " [1 0 0]\n",
      " [0 0 1]]\n",
      "Model 2\n",
      "Probability matrix :\n",
      "[[0.8 0.1 0.1]\n",
      " [0.1 0.7 0.2]\n",
      " [0.7 0.1 0.2]\n",
      " [0.4 0.3 0.3]]\n",
      "Answer matrix :\n",
      "[[1 0 0]\n",
      " [0 1 0]\n",
      " [1 0 0]\n",
      " [0 0 1]]\n"
     ]
    }
   ],
   "source": [
    "# Model 1\n",
    "Prob1 = np.array([[0.4, 0.3, 0.3], [0.3, 0.4, 0.3], [0.5, 0.2, 0.3], [0.6, 0.2, 0.2]])\n",
    "Ans1 = np.array([[1, 0, 0], [0, 1, 0], [1, 0, 0], [0, 0, 1]])\n",
    "print(\"Model 1\")\n",
    "print(\"Probability matrix :\")\n",
    "print(Prob1)\n",
    "print(\"Answer matrix :\")\n",
    "print(Ans1)\n",
    "\n",
    "# Model 2\n",
    "Prob2 = np.array([[0.8, 0.1, 0.1], [0.1, 0.7, 0.2], [0.7, 0.1, 0.2], [0.4, 0.3, 0.3]])\n",
    "Ans2 = np.array([[1, 0, 0], [0, 1, 0], [1, 0, 0], [0, 0, 1]])\n",
    "print(\"Model 2\")\n",
    "print(\"Probability matrix :\")\n",
    "print(Prob2)\n",
    "print(\"Answer matrix :\")\n",
    "print(Ans2)"
   ]
  },
  {
   "cell_type": "code",
   "execution_count": 3,
   "metadata": {},
   "outputs": [
    {
     "name": "stdout",
     "output_type": "stream",
     "text": [
      "MSE of Model 1: 0.20833333333333334\n",
      "MSE of Model 2: 0.09000000000000001\n"
     ]
    }
   ],
   "source": [
    "# calculate mean square error\n",
    "se1 = (Prob1 - Ans1)**2\n",
    "mse1 = np.mean(se1).sum()\n",
    "se2 = (Prob2 - Ans2)**2\n",
    "mse2 = np.mean(se2).sum()\n",
    "print(\"MSE of Model 1:\",mse1)\n",
    "print(\"MSE of Model 2:\",mse2)"
   ]
  },
  {
   "cell_type": "code",
   "execution_count": 4,
   "metadata": {},
   "outputs": [
    {
     "name": "stdout",
     "output_type": "stream",
     "text": [
      "MAE of Model 1: 0.4166666666666666\n",
      "MAE of Model 2: 0.25\n"
     ]
    }
   ],
   "source": [
    "# calculate mean absolute error\n",
    "ae1 = abs(Prob1 - Ans1)\n",
    "mae1 = np.mean(ae1).sum()\n",
    "ae2 = abs(Prob2 - Ans2)\n",
    "mae2 = np.mean(ae2).sum()\n",
    "print(\"MAE of Model 1:\",mae1)\n",
    "print(\"MAE of Model 2:\",mae2)"
   ]
  },
  {
   "cell_type": "code",
   "execution_count": 5,
   "metadata": {
    "scrolled": true
   },
   "outputs": [
    {
     "name": "stdout",
     "output_type": "stream",
     "text": [
      "MAE of Model 1: 0.6067599259115494\n",
      "MAE of Model 2: 0.32297466470683817\n"
     ]
    }
   ],
   "source": [
    "# calculate cross entropy\n",
    "ce1 = 0\n",
    "ce2 = 0\n",
    "for i in range(np.size(Prob1, 0)):\n",
    "    for j in range(np.size(Prob1, 1)):\n",
    "        a = Ans1[(i,j)]\n",
    "        p = Prob1[(i,j)]\n",
    "        ce1 -= (a * math.log(p) + (1 - a) * math.log(1 - p))\n",
    "for i in range(np.size(Prob2, 0)):\n",
    "    for j in range(np.size(Prob2, 1)):\n",
    "        a = Ans2[(i,j)]\n",
    "        p = Prob2[(i,j)]\n",
    "        ce2 -= (a * math.log(p) + (1 - a) * math.log(1 - p))\n",
    "ce1 /= np.size(Prob1)\n",
    "ce2 /= np.size(Prob2)\n",
    "print(\"MAE of Model 1:\",ce1)\n",
    "print(\"MAE of Model 2:\",ce2)"
   ]
  },
  {
   "cell_type": "code",
   "execution_count": 6,
   "metadata": {},
   "outputs": [
    {
     "data": {
      "text/html": [
       "<div>\n",
       "<style scoped>\n",
       "    .dataframe tbody tr th:only-of-type {\n",
       "        vertical-align: middle;\n",
       "    }\n",
       "\n",
       "    .dataframe tbody tr th {\n",
       "        vertical-align: top;\n",
       "    }\n",
       "\n",
       "    .dataframe thead th {\n",
       "        text-align: right;\n",
       "    }\n",
       "</style>\n",
       "<table border=\"1\" class=\"dataframe\">\n",
       "  <thead>\n",
       "    <tr style=\"text-align: right;\">\n",
       "      <th></th>\n",
       "      <th>Model 1</th>\n",
       "      <th>Model 2</th>\n",
       "    </tr>\n",
       "  </thead>\n",
       "  <tbody>\n",
       "    <tr>\n",
       "      <th>MSE</th>\n",
       "      <td>0.208333</td>\n",
       "      <td>0.090000</td>\n",
       "    </tr>\n",
       "    <tr>\n",
       "      <th>MAE</th>\n",
       "      <td>0.416667</td>\n",
       "      <td>0.250000</td>\n",
       "    </tr>\n",
       "    <tr>\n",
       "      <th>cross entropy</th>\n",
       "      <td>0.606760</td>\n",
       "      <td>0.322975</td>\n",
       "    </tr>\n",
       "  </tbody>\n",
       "</table>\n",
       "</div>"
      ],
      "text/plain": [
       "                Model 1   Model 2\n",
       "MSE            0.208333  0.090000\n",
       "MAE            0.416667  0.250000\n",
       "cross entropy  0.606760  0.322975"
      ]
     },
     "execution_count": 6,
     "metadata": {},
     "output_type": "execute_result"
    }
   ],
   "source": [
    "# 整理 Model 1和 Model 2的資料\n",
    "M1 = [mse1, mae1, ce1]\n",
    "M2 = [mse2, mae2, ce2]\n",
    "dic = {\"Model 1\":M1,\"Model 2\":M2}\n",
    "id = [\"MSE\",\"MAE\",\"cross entropy\"]\n",
    "chart_result = pd.DataFrame(dic, index=id)\n",
    "chart_result"
   ]
  },
  {
   "cell_type": "code",
   "execution_count": null,
   "metadata": {},
   "outputs": [],
   "source": []
  }
 ],
 "metadata": {
  "kernelspec": {
   "display_name": "Python 3",
   "language": "python",
   "name": "python3"
  },
  "language_info": {
   "codemirror_mode": {
    "name": "ipython",
    "version": 3
   },
   "file_extension": ".py",
   "mimetype": "text/x-python",
   "name": "python",
   "nbconvert_exporter": "python",
   "pygments_lexer": "ipython3",
   "version": "3.7.3"
  }
 },
 "nbformat": 4,
 "nbformat_minor": 2
}
