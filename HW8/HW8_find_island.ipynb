{
 "cells": [
  {
   "cell_type": "code",
   "execution_count": 1,
   "metadata": {},
   "outputs": [],
   "source": [
    "import numpy as np\n",
    "import pandas as pd"
   ]
  },
  {
   "cell_type": "code",
   "execution_count": 2,
   "metadata": {},
   "outputs": [
    {
     "name": "stdout",
     "output_type": "stream",
     "text": [
      "[[0 0 0 0 0 0 0 0 0 0]\n",
      " [0 1 1 1 1 0 0 0 1 1]\n",
      " [0 0 1 1 1 0 1 1 1 1]\n",
      " [0 0 1 1 0 0 1 1 1 1]\n",
      " [0 1 1 1 0 0 1 1 1 0]\n",
      " [0 0 0 0 0 0 0 0 1 0]\n",
      " [0 0 0 1 1 1 0 0 1 0]\n",
      " [0 0 0 1 1 1 1 0 0 0]\n",
      " [0 0 0 1 1 1 1 0 0 0]\n",
      " [0 0 0 0 0 0 1 0 0 0]]\n",
      "[[0. 0. 0. 0. 0. 0. 0. 0. 0. 0. 0. 0.]\n",
      " [0. 0. 0. 0. 0. 0. 0. 0. 0. 0. 0. 0.]\n",
      " [0. 0. 1. 1. 1. 1. 0. 0. 0. 1. 1. 0.]\n",
      " [0. 0. 0. 1. 1. 1. 0. 1. 1. 1. 1. 0.]\n",
      " [0. 0. 0. 1. 1. 0. 0. 1. 1. 1. 1. 0.]\n",
      " [0. 0. 1. 1. 1. 0. 0. 1. 1. 1. 0. 0.]\n",
      " [0. 0. 0. 0. 0. 0. 0. 0. 0. 1. 0. 0.]\n",
      " [0. 0. 0. 0. 1. 1. 1. 0. 0. 1. 0. 0.]\n",
      " [0. 0. 0. 0. 1. 1. 1. 1. 0. 0. 0. 0.]\n",
      " [0. 0. 0. 0. 1. 1. 1. 1. 0. 0. 0. 0.]\n",
      " [0. 0. 0. 0. 0. 0. 0. 1. 0. 0. 0. 0.]\n",
      " [0. 0. 0. 0. 0. 0. 0. 0. 0. 0. 0. 0.]]\n",
      "39\n"
     ]
    }
   ],
   "source": [
    "# 圖像轉成矩陣(0為白色塊，1為黑色塊)\n",
    "fig = np.array([[0, 0, 0, 0, 0, 0, 0, 0, 0, 0]\n",
    "         ,[0, 1, 1, 1, 1, 0, 0, 0, 1, 1]\n",
    "         ,[0, 0, 1, 1, 1, 0, 1, 1, 1, 1]\n",
    "         ,[0, 0, 1, 1, 0, 0, 1, 1, 1, 1]\n",
    "         ,[0, 1, 1, 1, 0, 0, 1, 1, 1, 0]\n",
    "         ,[0, 0, 0, 0, 0, 0, 0, 0, 1, 0]\n",
    "         ,[0, 0, 0, 1, 1, 1, 0, 0, 1, 0]\n",
    "         ,[0, 0, 0, 1, 1, 1, 1, 0, 0, 0]\n",
    "         ,[0, 0, 0, 1, 1, 1, 1, 0, 0, 0]\n",
    "         ,[0, 0, 0, 0, 0, 0, 1, 0, 0, 0]])\n",
    "print(fig)\n",
    "\n",
    "# 讀取行列數\n",
    "figrow = np.size(fig, 0)\n",
    "figcol = np.size(fig, 1)\n",
    "# 將原矩陣外圍加上一層零(預防程式計算出錯)\n",
    "I1 = np.eye(figcol+2, figrow, k=-1)\n",
    "I2 = np.eye(figcol, figrow+2, k=1)\n",
    "fig2 = (I1.dot(fig)).dot(I2)\n",
    "print(fig2)\n",
    "\n",
    "# total 為全部 island 的總面積大小\n",
    "total = sum(sum(fig))\n",
    "print(total)"
   ]
  },
  {
   "cell_type": "code",
   "execution_count": 3,
   "metadata": {},
   "outputs": [],
   "source": [
    "# 偵測元素(像素.pixel)上下左右是否有相連，判斷過後的值皆改為-1\n",
    "def finding(fmatrix, i, j, count):\n",
    "    if fmatrix[(i+1, j)] == 1:\n",
    "        count += 1\n",
    "        fmatrix[(i+1, j)] = -1\n",
    "        fmatrix, count = finding(fmatrix, i+1, j, count)\n",
    "    if fmatrix[(i, j+1)] == 1:\n",
    "        count += 1\n",
    "        fmatrix[(i, j+1)] = -1\n",
    "        fmatrix, count = finding(fmatrix, i, j+1, count)        \n",
    "    if fmatrix[(i-1, j)] == 1:\n",
    "        count += 1\n",
    "        fmatrix[(i-1, j)] = -1\n",
    "        fmatrix, count = finding(fmatrix, i-1, j, count)\n",
    "    if fmatrix[(i, j-1)] == 1:\n",
    "        count += 1\n",
    "        fmatrix[(i, j-1)] = -1\n",
    "        fmatrix, count = finding(fmatrix, i, j-1, count)\n",
    "        \n",
    "    return fmatrix, count"
   ]
  },
  {
   "cell_type": "code",
   "execution_count": 4,
   "metadata": {},
   "outputs": [
    {
     "name": "stdout",
     "output_type": "stream",
     "text": [
      "[12, 15, 12]\n"
     ]
    }
   ],
   "source": [
    "island = []\n",
    "x = 0\n",
    "while total - sum(island) > 0:\n",
    "    count = 0\n",
    "    row = x // figcol + 1\n",
    "    col = x % figcol + 1\n",
    "    if fig2[(row, col)] == 1:\n",
    "        count += 1\n",
    "        # 判斷過後的值皆改為-1\n",
    "        fig2[(row, col)] = -1\n",
    "        fig2, count = finding(fig2, row, col, count)\n",
    "        # 紀錄一個 island 的面積大小\n",
    "        island.append(count)\n",
    "    else:\n",
    "        fig2[(row, col)] = -1\n",
    "    x += 1\n",
    "\n",
    "print(island)"
   ]
  },
  {
   "cell_type": "code",
   "execution_count": 5,
   "metadata": {},
   "outputs": [
    {
     "name": "stdout",
     "output_type": "stream",
     "text": [
      "There are 3 islands in the figure.\n",
      "\n"
     ]
    },
    {
     "data": {
      "text/html": [
       "<div>\n",
       "<style scoped>\n",
       "    .dataframe tbody tr th:only-of-type {\n",
       "        vertical-align: middle;\n",
       "    }\n",
       "\n",
       "    .dataframe tbody tr th {\n",
       "        vertical-align: top;\n",
       "    }\n",
       "\n",
       "    .dataframe thead th {\n",
       "        text-align: right;\n",
       "    }\n",
       "</style>\n",
       "<table border=\"1\" class=\"dataframe\">\n",
       "  <thead>\n",
       "    <tr style=\"text-align: right;\">\n",
       "      <th></th>\n",
       "      <th>Size of the area</th>\n",
       "    </tr>\n",
       "  </thead>\n",
       "  <tbody>\n",
       "    <tr>\n",
       "      <th>island 1</th>\n",
       "      <td>12</td>\n",
       "    </tr>\n",
       "    <tr>\n",
       "      <th>island 2</th>\n",
       "      <td>15</td>\n",
       "    </tr>\n",
       "    <tr>\n",
       "      <th>island 3</th>\n",
       "      <td>12</td>\n",
       "    </tr>\n",
       "  </tbody>\n",
       "</table>\n",
       "</div>"
      ],
      "text/plain": [
       "          Size of the area\n",
       "island 1                12\n",
       "island 2                15\n",
       "island 3                12"
      ]
     },
     "execution_count": 5,
     "metadata": {},
     "output_type": "execute_result"
    }
   ],
   "source": [
    "# 整理 island 面積大小的資料\n",
    "dic = {\"Size of the area\":island}\n",
    "id = []\n",
    "for i in range(len(island)):\n",
    "    id.append(\"island \" + str(i+1))\n",
    "chart_result = pd.DataFrame(dic, index = id)\n",
    "print(\"There are \" + str(len(island)) + \" islands in the figure.\\n\")\n",
    "chart_result"
   ]
  },
  {
   "cell_type": "code",
   "execution_count": null,
   "metadata": {},
   "outputs": [],
   "source": []
  }
 ],
 "metadata": {
  "kernelspec": {
   "display_name": "Python 3",
   "language": "python",
   "name": "python3"
  },
  "language_info": {
   "codemirror_mode": {
    "name": "ipython",
    "version": 3
   },
   "file_extension": ".py",
   "mimetype": "text/x-python",
   "name": "python",
   "nbconvert_exporter": "python",
   "pygments_lexer": "ipython3",
   "version": "3.7.3"
  }
 },
 "nbformat": 4,
 "nbformat_minor": 4
}
