{
 "cells": [
  {
   "cell_type": "code",
   "execution_count": 1,
   "metadata": {},
   "outputs": [],
   "source": [
    "import numpy as np\n",
    "import random"
   ]
  },
  {
   "cell_type": "code",
   "execution_count": 2,
   "metadata": {},
   "outputs": [],
   "source": [
    "## 定義隨機生成數字的函式\n",
    "# output_size 是隨機生成數字的數量\n",
    "def rand_no_repeat(number_array, output_size):\n",
    "    output = []\n",
    "    for count in range(output_size):\n",
    "        x = random.randint(count+1,len(number_array))\n",
    "        a = number_array[x-1]\n",
    "        # 被選擇到的數字放置最前面、未被選擇的數字皆往後移一位\n",
    "        number_array[1:x] = number_array[:x-1]\n",
    "        number_array[0] = a\n",
    "\n",
    "    # 整理隨機生成的數字\n",
    "    output = number_array[:output_size]\n",
    "    print(output)"
   ]
  },
  {
   "cell_type": "code",
   "execution_count": 3,
   "metadata": {},
   "outputs": [
    {
     "name": "stdout",
     "output_type": "stream",
     "text": [
      "[0, 1, 2, 3, 4, 5, 6, 7, 8, 9]\n"
     ]
    }
   ],
   "source": [
    "require_size = 10\n",
    "num_array = []\n",
    "# 產生要求的範圍 0~9(區間)\n",
    "for i in range(require_size):\n",
    "    num_array.append(i)\n",
    "\n",
    "print(num_array)"
   ]
  },
  {
   "cell_type": "code",
   "execution_count": 4,
   "metadata": {},
   "outputs": [
    {
     "name": "stdout",
     "output_type": "stream",
     "text": [
      "[0, 7, 1, 9, 5, 2, 8, 6, 3, 4]\n"
     ]
    }
   ],
   "source": [
    "rand_no_repeat(num_array, 10)"
   ]
  }
 ],
 "metadata": {
  "kernelspec": {
   "display_name": "Python 3",
   "language": "python",
   "name": "python3"
  },
  "language_info": {
   "codemirror_mode": {
    "name": "ipython",
    "version": 3
   },
   "file_extension": ".py",
   "mimetype": "text/x-python",
   "name": "python",
   "nbconvert_exporter": "python",
   "pygments_lexer": "ipython3",
   "version": "3.7.3"
  }
 },
 "nbformat": 4,
 "nbformat_minor": 2
}
